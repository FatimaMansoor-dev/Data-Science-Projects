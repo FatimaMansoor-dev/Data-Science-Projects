{
  "nbformat": 4,
  "nbformat_minor": 0,
  "metadata": {
    "colab": {
      "provenance": []
    },
    "kernelspec": {
      "name": "python3",
      "display_name": "Python 3"
    },
    "language_info": {
      "name": "python"
    }
  },
  "cells": [
    {
      "cell_type": "code",
      "execution_count": 1,
      "metadata": {
        "id": "FiieyUyqdlKb"
      },
      "outputs": [],
      "source": [
        "from transformers import pipeline"
      ]
    },
    {
      "cell_type": "code",
      "source": [
        "#!pip install transformers"
      ],
      "metadata": {
        "id": "pA2xTYlMdqEj"
      },
      "execution_count": 2,
      "outputs": []
    },
    {
      "cell_type": "code",
      "source": [
        "chatbot = pipeline(task = 'conversational', model=\"facebook/blenderbot-400M-distill\")"
      ],
      "metadata": {
        "id": "G44f5LS3d4fw"
      },
      "execution_count": 29,
      "outputs": []
    },
    {
      "cell_type": "code",
      "source": [
        "user_msg = 'what are some fun activities to do this summer?'"
      ],
      "metadata": {
        "id": "IRq5Ci_VeFy-"
      },
      "execution_count": 30,
      "outputs": []
    },
    {
      "cell_type": "code",
      "source": [
        "from transformers import Conversation"
      ],
      "metadata": {
        "id": "lRAKqYqRj8cf"
      },
      "execution_count": 33,
      "outputs": []
    },
    {
      "cell_type": "code",
      "source": [
        "conversation = Conversation(user_msg)"
      ],
      "metadata": {
        "id": "xX5CDzVhea0P"
      },
      "execution_count": 35,
      "outputs": []
    },
    {
      "cell_type": "code",
      "source": [
        "print(conversation)"
      ],
      "metadata": {
        "colab": {
          "base_uri": "https://localhost:8080/"
        },
        "id": "xOFsIIgPek-g",
        "outputId": "abb8ec9e-6bde-4588-f6c3-c3c98d99fb21"
      },
      "execution_count": 36,
      "outputs": [
        {
          "output_type": "stream",
          "name": "stdout",
          "text": [
            "Conversation id: a14f9565-91af-4c70-9ce7-216249a0e874\n",
            "user: what are some fun activities to do this summer?\n",
            "\n"
          ]
        }
      ]
    },
    {
      "cell_type": "code",
      "source": [
        "conv = chatbot(conversation)"
      ],
      "metadata": {
        "id": "l8EWoCtdf2hD"
      },
      "execution_count": 37,
      "outputs": []
    },
    {
      "cell_type": "code",
      "source": [
        "print(conv)"
      ],
      "metadata": {
        "colab": {
          "base_uri": "https://localhost:8080/"
        },
        "id": "PcdTMbN_hdt_",
        "outputId": "8afeba11-8653-4990-aec1-851fd3f482d9"
      },
      "execution_count": 38,
      "outputs": [
        {
          "output_type": "stream",
          "name": "stdout",
          "text": [
            "Conversation id: a14f9565-91af-4c70-9ce7-216249a0e874\n",
            "user: what are some fun activities to do this summer?\n",
            "assistant:  I'm going to the beach! I can't wait to get out of the house!\n",
            "\n"
          ]
        }
      ]
    },
    {
      "cell_type": "code",
      "source": [
        "print(chatbot(Conversation('what else do you recommed?')))"
      ],
      "metadata": {
        "colab": {
          "base_uri": "https://localhost:8080/"
        },
        "id": "xsoV3_1vjMgD",
        "outputId": "14f72009-1f48-4265-ffc0-dcaa21e8bebf"
      },
      "execution_count": 39,
      "outputs": [
        {
          "output_type": "stream",
          "name": "stdout",
          "text": [
            "Conversation id: ff981493-09a8-42fe-8753-4b48ab54357e\n",
            "user: what else do you recommed?\n",
            "assistant:  Well, I had to go to the store to pick up some groceries.\n",
            "\n"
          ]
        }
      ]
    },
    {
      "cell_type": "code",
      "source": [
        "print(chatbot(Conversation('what do you mean?')))"
      ],
      "metadata": {
        "colab": {
          "base_uri": "https://localhost:8080/"
        },
        "id": "Idk4GVrjknoz",
        "outputId": "4f0b3b98-a46e-4da7-c26f-fc5038972d15"
      },
      "execution_count": 40,
      "outputs": [
        {
          "output_type": "stream",
          "name": "stdout",
          "text": [
            "Conversation id: 62b2ab80-1328-43fa-b926-6111835b8f56\n",
            "user: what do you mean?\n",
            "assistant:  I think I'm going to have to move out of my parents house. I don't know what to do.\n",
            "\n"
          ]
        }
      ]
    },
    {
      "cell_type": "code",
      "source": [
        "conv.add_message({'role':'user',\n",
        "                  'content':'what do you mean?'})"
      ],
      "metadata": {
        "id": "1mQEQrXXlHN8"
      },
      "execution_count": 41,
      "outputs": []
    },
    {
      "cell_type": "code",
      "source": [
        "print(conv)"
      ],
      "metadata": {
        "colab": {
          "base_uri": "https://localhost:8080/"
        },
        "id": "kRaeLn-Fle4I",
        "outputId": "c684baab-694b-4520-f632-7ebe475d07d8"
      },
      "execution_count": 42,
      "outputs": [
        {
          "output_type": "stream",
          "name": "stdout",
          "text": [
            "Conversation id: a14f9565-91af-4c70-9ce7-216249a0e874\n",
            "user: what are some fun activities to do this summer?\n",
            "assistant:  I'm going to the beach! I can't wait to get out of the house!\n",
            "user: what do you mean?\n",
            "\n"
          ]
        }
      ]
    },
    {
      "cell_type": "code",
      "source": [
        "print(chatbot(conv))"
      ],
      "metadata": {
        "colab": {
          "base_uri": "https://localhost:8080/"
        },
        "id": "zWOWLk0Plf0E",
        "outputId": "f8513f3f-cfcd-4a4f-b824-899dad52c780"
      },
      "execution_count": 43,
      "outputs": [
        {
          "output_type": "stream",
          "name": "stdout",
          "text": [
            "Conversation id: a14f9565-91af-4c70-9ce7-216249a0e874\n",
            "user: what are some fun activities to do this summer?\n",
            "assistant:  I'm going to the beach! I can't wait to get out of the house!\n",
            "user: what do you mean?\n",
            "assistant:  The beach is my favorite place to go! I love the sand and the waves!\n",
            "\n"
          ]
        }
      ]
    },
    {
      "cell_type": "code",
      "source": [],
      "metadata": {
        "id": "Qt_OwUptl5fF"
      },
      "execution_count": null,
      "outputs": []
    }
  ]
}