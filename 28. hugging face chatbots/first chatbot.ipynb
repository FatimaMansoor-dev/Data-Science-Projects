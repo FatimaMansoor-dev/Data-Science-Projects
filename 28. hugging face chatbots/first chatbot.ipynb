{
  "nbformat": 4,
  "nbformat_minor": 0,
  "metadata": {
    "colab": {
      "provenance": []
    },
    "kernelspec": {
      "name": "python3",
      "display_name": "Python 3"
    },
    "language_info": {
      "name": "python"
    }
  },
  "cells": [
    {
      "cell_type": "code",
      "execution_count": 1,
      "metadata": {
        "id": "FiieyUyqdlKb"
      },
      "outputs": [],
      "source": [
        "from transformers import pipeline"
      ]
    },
    {
      "cell_type": "code",
      "source": [
        "#!pip install transformers"
      ],
      "metadata": {
        "id": "pA2xTYlMdqEj"
      },
      "execution_count": 2,
      "outputs": []
    },
    {
      "cell_type": "code",
      "source": [
        "chatbot = pipeline(\"text2text-generation\", model=\"facebook/blenderbot-400M-distill\")"
      ],
      "metadata": {
        "id": "G44f5LS3d4fw"
      },
      "execution_count": 16,
      "outputs": []
    },
    {
      "cell_type": "code",
      "source": [
        "user_msg = 'what are some fun activities to do this summer?'"
      ],
      "metadata": {
        "id": "IRq5Ci_VeFy-"
      },
      "execution_count": 17,
      "outputs": []
    },
    {
      "cell_type": "code",
      "source": [
        "conversation = chatbot(user_msg)"
      ],
      "metadata": {
        "id": "xX5CDzVhea0P"
      },
      "execution_count": 22,
      "outputs": []
    },
    {
      "cell_type": "code",
      "source": [
        "print(conversation)"
      ],
      "metadata": {
        "colab": {
          "base_uri": "https://localhost:8080/"
        },
        "id": "xOFsIIgPek-g",
        "outputId": "977b9235-4fff-4004-f035-1b008bb5fcac"
      },
      "execution_count": 23,
      "outputs": [
        {
          "output_type": "stream",
          "name": "stdout",
          "text": [
            "[{'generated_text': \" I'm going to the beach! I can't wait to get out of the house!\"}]\n"
          ]
        }
      ]
    },
    {
      "cell_type": "code",
      "source": [
        "user_msg2 = 'why hafsuu sleeps too much'\n",
        "ans = chatbot(user_msg2)\n",
        "print(ans)"
      ],
      "metadata": {
        "colab": {
          "base_uri": "https://localhost:8080/"
        },
        "id": "l8EWoCtdf2hD",
        "outputId": "80c4a986-95de-45cf-bd65-b5fc1a044bc3"
      },
      "execution_count": 25,
      "outputs": [
        {
          "output_type": "stream",
          "name": "stdout",
          "text": [
            "[{'generated_text': \" I don't know. I think it's because I'm a night owl and don't get enough sleep.\"}]\n"
          ]
        }
      ]
    },
    {
      "cell_type": "code",
      "source": [
        "quest = 'what else do you remember?'\n",
        "ans = chatbot(quest)\n",
        "print(ans)"
      ],
      "metadata": {
        "colab": {
          "base_uri": "https://localhost:8080/"
        },
        "id": "PcdTMbN_hdt_",
        "outputId": "def087d9-dae8-4ad1-b05e-9eff0c92c6ad"
      },
      "execution_count": 26,
      "outputs": [
        {
          "output_type": "stream",
          "name": "stdout",
          "text": [
            "[{'generated_text': \" I remember a lot of things, but I can't think of any specific ones right now.\"}]\n"
          ]
        }
      ]
    },
    {
      "cell_type": "code",
      "source": [],
      "metadata": {
        "id": "xsoV3_1vjMgD"
      },
      "execution_count": null,
      "outputs": []
    }
  ]
}